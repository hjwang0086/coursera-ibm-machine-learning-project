{
  "nbformat": 4,
  "nbformat_minor": 0,
  "metadata": {
    "colab": {
      "name": "ML-Final-1.ipynb",
      "provenance": [],
      "collapsed_sections": []
    },
    "kernelspec": {
      "name": "python3",
      "display_name": "Python 3"
    },
    "language_info": {
      "name": "python"
    }
  },
  "cells": [
    {
      "cell_type": "markdown",
      "metadata": {
        "id": "gfb1gmQkjJEN"
      },
      "source": [
        "<h1><b>Analysis of NIH Chest X-ray Dataset</b></h1>\n",
        "<h4>Editor: Daniel Wang</h4>"
      ]
    },
    {
      "cell_type": "markdown",
      "metadata": {
        "id": "hPomWAUBjS7H"
      },
      "source": [
        "One of the common applications of machine learning is the healthcare AI. To better improve the accessibility and reliability of AI for clinical applications, we shall care about the data we collected. In this project, I will analyze the [NIH Chest X-ray Dataset](https://www.kaggle.com/nih-chest-xrays/data), which is usually used for some deep learning pre-trained models and is comprised of many X-ray images and corresponded structured metadata (stored in CSV format).\n",
        "\n",
        "To do the Exploratory Data Analysis (EDA) of the NIH Chest X-ray dataset, we need to analyze it to summarize its main characters, often with visual methods, to allow us to get an initial feel for the data. Therefore, I will do some steps for EDA:\n",
        "1. Data Preparation\n",
        "2. Feature Engineering\n",
        "3. Data Analysis\n",
        "4. Hypothesis Testing\n",
        "5. Conclusions\n",
        "6. Future Works"
      ]
    },
    {
      "cell_type": "markdown",
      "metadata": {
        "id": "rzTmqiq4nWtt"
      },
      "source": [
        "<h2><b><u>1. Data Preparation</u></b></h2>"
      ]
    },
    {
      "cell_type": "markdown",
      "metadata": {
        "id": "nT-VqnJrndRL"
      },
      "source": [
        "Let's first import some necessary Python libraries."
      ]
    },
    {
      "cell_type": "code",
      "metadata": {
        "id": "WQAWHBeHLg1g"
      },
      "source": [
        "import matplotlib.pyplot as plt\n",
        "import seaborn as sns\n",
        "import pandas as pd\n",
        "import numpy as np\n",
        "\n",
        "from scipy.stats import normaltest, chisquare, ttest_ind"
      ],
      "execution_count": null,
      "outputs": []
    },
    {
      "cell_type": "markdown",
      "metadata": {
        "id": "8pMpSUHRniHQ"
      },
      "source": [
        "To use Pandas read_csv function directly, I found a website which stores the metadata of the dataset."
      ]
    },
    {
      "cell_type": "code",
      "metadata": {
        "colab": {
          "base_uri": "https://localhost:8080/",
          "height": 410
        },
        "id": "cz2_xljk_unZ",
        "outputId": "3b81b81d-e352-423f-9219-9afc6b161610"
      },
      "source": [
        "df = pd.read_csv(\"https://raw.githubusercontent.com/gregwchase/nih-chest-xray/master/data/Data_Entry_2017.csv\")\n",
        "print(df.shape)\n",
        "df[:10]"
      ],
      "execution_count": null,
      "outputs": [
        {
          "output_type": "stream",
          "text": [
            "(112120, 12)\n"
          ],
          "name": "stdout"
        },
        {
          "output_type": "execute_result",
          "data": {
            "text/html": [
              "<div>\n",
              "<style scoped>\n",
              "    .dataframe tbody tr th:only-of-type {\n",
              "        vertical-align: middle;\n",
              "    }\n",
              "\n",
              "    .dataframe tbody tr th {\n",
              "        vertical-align: top;\n",
              "    }\n",
              "\n",
              "    .dataframe thead th {\n",
              "        text-align: right;\n",
              "    }\n",
              "</style>\n",
              "<table border=\"1\" class=\"dataframe\">\n",
              "  <thead>\n",
              "    <tr style=\"text-align: right;\">\n",
              "      <th></th>\n",
              "      <th>Image Index</th>\n",
              "      <th>Finding Labels</th>\n",
              "      <th>Follow-up #</th>\n",
              "      <th>Patient ID</th>\n",
              "      <th>Patient Age</th>\n",
              "      <th>Patient Gender</th>\n",
              "      <th>View Position</th>\n",
              "      <th>OriginalImage[Width</th>\n",
              "      <th>Height]</th>\n",
              "      <th>OriginalImagePixelSpacing[x</th>\n",
              "      <th>y]</th>\n",
              "      <th>Unnamed: 11</th>\n",
              "    </tr>\n",
              "  </thead>\n",
              "  <tbody>\n",
              "    <tr>\n",
              "      <th>0</th>\n",
              "      <td>00000001_000.png</td>\n",
              "      <td>Cardiomegaly</td>\n",
              "      <td>0</td>\n",
              "      <td>1</td>\n",
              "      <td>058Y</td>\n",
              "      <td>M</td>\n",
              "      <td>PA</td>\n",
              "      <td>2682</td>\n",
              "      <td>2749</td>\n",
              "      <td>0.143</td>\n",
              "      <td>0.143</td>\n",
              "      <td>NaN</td>\n",
              "    </tr>\n",
              "    <tr>\n",
              "      <th>1</th>\n",
              "      <td>00000001_001.png</td>\n",
              "      <td>Cardiomegaly|Emphysema</td>\n",
              "      <td>1</td>\n",
              "      <td>1</td>\n",
              "      <td>058Y</td>\n",
              "      <td>M</td>\n",
              "      <td>PA</td>\n",
              "      <td>2894</td>\n",
              "      <td>2729</td>\n",
              "      <td>0.143</td>\n",
              "      <td>0.143</td>\n",
              "      <td>NaN</td>\n",
              "    </tr>\n",
              "    <tr>\n",
              "      <th>2</th>\n",
              "      <td>00000001_002.png</td>\n",
              "      <td>Cardiomegaly|Effusion</td>\n",
              "      <td>2</td>\n",
              "      <td>1</td>\n",
              "      <td>058Y</td>\n",
              "      <td>M</td>\n",
              "      <td>PA</td>\n",
              "      <td>2500</td>\n",
              "      <td>2048</td>\n",
              "      <td>0.168</td>\n",
              "      <td>0.168</td>\n",
              "      <td>NaN</td>\n",
              "    </tr>\n",
              "    <tr>\n",
              "      <th>3</th>\n",
              "      <td>00000002_000.png</td>\n",
              "      <td>No Finding</td>\n",
              "      <td>0</td>\n",
              "      <td>2</td>\n",
              "      <td>081Y</td>\n",
              "      <td>M</td>\n",
              "      <td>PA</td>\n",
              "      <td>2500</td>\n",
              "      <td>2048</td>\n",
              "      <td>0.171</td>\n",
              "      <td>0.171</td>\n",
              "      <td>NaN</td>\n",
              "    </tr>\n",
              "    <tr>\n",
              "      <th>4</th>\n",
              "      <td>00000003_000.png</td>\n",
              "      <td>Hernia</td>\n",
              "      <td>0</td>\n",
              "      <td>3</td>\n",
              "      <td>081Y</td>\n",
              "      <td>F</td>\n",
              "      <td>PA</td>\n",
              "      <td>2582</td>\n",
              "      <td>2991</td>\n",
              "      <td>0.143</td>\n",
              "      <td>0.143</td>\n",
              "      <td>NaN</td>\n",
              "    </tr>\n",
              "    <tr>\n",
              "      <th>5</th>\n",
              "      <td>00000003_001.png</td>\n",
              "      <td>Hernia</td>\n",
              "      <td>1</td>\n",
              "      <td>3</td>\n",
              "      <td>074Y</td>\n",
              "      <td>F</td>\n",
              "      <td>PA</td>\n",
              "      <td>2500</td>\n",
              "      <td>2048</td>\n",
              "      <td>0.168</td>\n",
              "      <td>0.168</td>\n",
              "      <td>NaN</td>\n",
              "    </tr>\n",
              "    <tr>\n",
              "      <th>6</th>\n",
              "      <td>00000003_002.png</td>\n",
              "      <td>Hernia</td>\n",
              "      <td>2</td>\n",
              "      <td>3</td>\n",
              "      <td>075Y</td>\n",
              "      <td>F</td>\n",
              "      <td>PA</td>\n",
              "      <td>2048</td>\n",
              "      <td>2500</td>\n",
              "      <td>0.168</td>\n",
              "      <td>0.168</td>\n",
              "      <td>NaN</td>\n",
              "    </tr>\n",
              "    <tr>\n",
              "      <th>7</th>\n",
              "      <td>00000003_003.png</td>\n",
              "      <td>Hernia|Infiltration</td>\n",
              "      <td>3</td>\n",
              "      <td>3</td>\n",
              "      <td>076Y</td>\n",
              "      <td>F</td>\n",
              "      <td>PA</td>\n",
              "      <td>2698</td>\n",
              "      <td>2991</td>\n",
              "      <td>0.143</td>\n",
              "      <td>0.143</td>\n",
              "      <td>NaN</td>\n",
              "    </tr>\n",
              "    <tr>\n",
              "      <th>8</th>\n",
              "      <td>00000003_004.png</td>\n",
              "      <td>Hernia</td>\n",
              "      <td>4</td>\n",
              "      <td>3</td>\n",
              "      <td>077Y</td>\n",
              "      <td>F</td>\n",
              "      <td>PA</td>\n",
              "      <td>2500</td>\n",
              "      <td>2048</td>\n",
              "      <td>0.168</td>\n",
              "      <td>0.168</td>\n",
              "      <td>NaN</td>\n",
              "    </tr>\n",
              "    <tr>\n",
              "      <th>9</th>\n",
              "      <td>00000003_005.png</td>\n",
              "      <td>Hernia</td>\n",
              "      <td>5</td>\n",
              "      <td>3</td>\n",
              "      <td>078Y</td>\n",
              "      <td>F</td>\n",
              "      <td>PA</td>\n",
              "      <td>2686</td>\n",
              "      <td>2991</td>\n",
              "      <td>0.143</td>\n",
              "      <td>0.143</td>\n",
              "      <td>NaN</td>\n",
              "    </tr>\n",
              "  </tbody>\n",
              "</table>\n",
              "</div>"
            ],
            "text/plain": [
              "        Image Index          Finding Labels  ...     y]  Unnamed: 11\n",
              "0  00000001_000.png            Cardiomegaly  ...  0.143          NaN\n",
              "1  00000001_001.png  Cardiomegaly|Emphysema  ...  0.143          NaN\n",
              "2  00000001_002.png   Cardiomegaly|Effusion  ...  0.168          NaN\n",
              "3  00000002_000.png              No Finding  ...  0.171          NaN\n",
              "4  00000003_000.png                  Hernia  ...  0.143          NaN\n",
              "5  00000003_001.png                  Hernia  ...  0.168          NaN\n",
              "6  00000003_002.png                  Hernia  ...  0.168          NaN\n",
              "7  00000003_003.png     Hernia|Infiltration  ...  0.143          NaN\n",
              "8  00000003_004.png                  Hernia  ...  0.168          NaN\n",
              "9  00000003_005.png                  Hernia  ...  0.143          NaN\n",
              "\n",
              "[10 rows x 12 columns]"
            ]
          },
          "metadata": {
            "tags": []
          },
          "execution_count": 2
        }
      ]
    },
    {
      "cell_type": "markdown",
      "metadata": {
        "id": "1uWb_v2un_FA"
      },
      "source": [
        "As we seen above, the metadata consists of 12 columns:\n",
        "1. Image Index: The image filename\n",
        "2. Finding Labels: What kinds of disease are presented given a DICOM image. There are 15 classes (14 diseases, and one for \"No findings\").\n",
        "3. Follow-up #: Scan ID given a patient. Note that a patient may have multiple scans\n",
        "4. Patient ID\n",
        "5. Patient Age\n",
        "6. Patient Gender\n",
        "7. View Position: How the X-ray image is captured (AP or PA view)\n",
        "8. Original Image Width: Original width of the DICOM image. Note that the image stored in here is resized\n",
        "9. Original Image Height: Original height of the DICOM image. Note that the image stored in here is resized\n",
        "10. Original Image Pixel Spacing X: Pixel spacing of the x-axis\n",
        "11. Original Image Pixel Spacing Y: Pixel spacing of the y-axis\n",
        "12. Unnamed: Entry we can ignore"
      ]
    },
    {
      "cell_type": "markdown",
      "metadata": {
        "id": "bAtS5PxlrJzq"
      },
      "source": [
        "Since we're doing the EDA, we care about critical features such as \"Finding Labels\", \"Patient ID\", \"Patient Age\" and \"Patient Gender\"."
      ]
    },
    {
      "cell_type": "code",
      "metadata": {
        "colab": {
          "base_uri": "https://localhost:8080/",
          "height": 373
        },
        "id": "zXXVmTeT_1UH",
        "outputId": "b03bb23d-6724-4416-dfd2-fc619b0c22f4"
      },
      "source": [
        "df = df[[\"Finding Labels\", \"Patient ID\", \"Patient Age\", \"Patient Gender\"]]\n",
        "df = df.rename(columns={\"Finding Labels\": \"label\", \"Patient ID\": \"pid\", \"Patient Age\": \"age\", \"Patient Gender\": \"sex\"})\n",
        "print(df.shape)\n",
        "df[:10]"
      ],
      "execution_count": null,
      "outputs": [
        {
          "output_type": "stream",
          "text": [
            "(112120, 4)\n"
          ],
          "name": "stdout"
        },
        {
          "output_type": "execute_result",
          "data": {
            "text/html": [
              "<div>\n",
              "<style scoped>\n",
              "    .dataframe tbody tr th:only-of-type {\n",
              "        vertical-align: middle;\n",
              "    }\n",
              "\n",
              "    .dataframe tbody tr th {\n",
              "        vertical-align: top;\n",
              "    }\n",
              "\n",
              "    .dataframe thead th {\n",
              "        text-align: right;\n",
              "    }\n",
              "</style>\n",
              "<table border=\"1\" class=\"dataframe\">\n",
              "  <thead>\n",
              "    <tr style=\"text-align: right;\">\n",
              "      <th></th>\n",
              "      <th>label</th>\n",
              "      <th>pid</th>\n",
              "      <th>age</th>\n",
              "      <th>sex</th>\n",
              "    </tr>\n",
              "  </thead>\n",
              "  <tbody>\n",
              "    <tr>\n",
              "      <th>0</th>\n",
              "      <td>Cardiomegaly</td>\n",
              "      <td>1</td>\n",
              "      <td>058Y</td>\n",
              "      <td>M</td>\n",
              "    </tr>\n",
              "    <tr>\n",
              "      <th>1</th>\n",
              "      <td>Cardiomegaly|Emphysema</td>\n",
              "      <td>1</td>\n",
              "      <td>058Y</td>\n",
              "      <td>M</td>\n",
              "    </tr>\n",
              "    <tr>\n",
              "      <th>2</th>\n",
              "      <td>Cardiomegaly|Effusion</td>\n",
              "      <td>1</td>\n",
              "      <td>058Y</td>\n",
              "      <td>M</td>\n",
              "    </tr>\n",
              "    <tr>\n",
              "      <th>3</th>\n",
              "      <td>No Finding</td>\n",
              "      <td>2</td>\n",
              "      <td>081Y</td>\n",
              "      <td>M</td>\n",
              "    </tr>\n",
              "    <tr>\n",
              "      <th>4</th>\n",
              "      <td>Hernia</td>\n",
              "      <td>3</td>\n",
              "      <td>081Y</td>\n",
              "      <td>F</td>\n",
              "    </tr>\n",
              "    <tr>\n",
              "      <th>5</th>\n",
              "      <td>Hernia</td>\n",
              "      <td>3</td>\n",
              "      <td>074Y</td>\n",
              "      <td>F</td>\n",
              "    </tr>\n",
              "    <tr>\n",
              "      <th>6</th>\n",
              "      <td>Hernia</td>\n",
              "      <td>3</td>\n",
              "      <td>075Y</td>\n",
              "      <td>F</td>\n",
              "    </tr>\n",
              "    <tr>\n",
              "      <th>7</th>\n",
              "      <td>Hernia|Infiltration</td>\n",
              "      <td>3</td>\n",
              "      <td>076Y</td>\n",
              "      <td>F</td>\n",
              "    </tr>\n",
              "    <tr>\n",
              "      <th>8</th>\n",
              "      <td>Hernia</td>\n",
              "      <td>3</td>\n",
              "      <td>077Y</td>\n",
              "      <td>F</td>\n",
              "    </tr>\n",
              "    <tr>\n",
              "      <th>9</th>\n",
              "      <td>Hernia</td>\n",
              "      <td>3</td>\n",
              "      <td>078Y</td>\n",
              "      <td>F</td>\n",
              "    </tr>\n",
              "  </tbody>\n",
              "</table>\n",
              "</div>"
            ],
            "text/plain": [
              "                    label  pid   age sex\n",
              "0            Cardiomegaly    1  058Y   M\n",
              "1  Cardiomegaly|Emphysema    1  058Y   M\n",
              "2   Cardiomegaly|Effusion    1  058Y   M\n",
              "3              No Finding    2  081Y   M\n",
              "4                  Hernia    3  081Y   F\n",
              "5                  Hernia    3  074Y   F\n",
              "6                  Hernia    3  075Y   F\n",
              "7     Hernia|Infiltration    3  076Y   F\n",
              "8                  Hernia    3  077Y   F\n",
              "9                  Hernia    3  078Y   F"
            ]
          },
          "metadata": {
            "tags": []
          },
          "execution_count": 3
        }
      ]
    },
    {
      "cell_type": "markdown",
      "metadata": {
        "id": "R5XVORmurgtg"
      },
      "source": [
        "<h2><b><u>2. Feature Engineering</u></b></h2>"
      ]
    },
    {
      "cell_type": "markdown",
      "metadata": {
        "id": "7MoEKCA6rlji"
      },
      "source": [
        "As we can see, the label field contains separator \"|\", and the age field is not in a numerical format. To better handling the features, I will:\n",
        "1. Split the label field into mutiple rows. If a image contains N labels, we will create N rows, and each row contain a unique label.\n",
        "2. Convert the age field into numerical values."
      ]
    },
    {
      "cell_type": "code",
      "metadata": {
        "colab": {
          "base_uri": "https://localhost:8080/",
          "height": 373
        },
        "id": "QLNCn_50BCvW",
        "outputId": "f3c734bf-f86a-4003-ac73-5263ff49fb34"
      },
      "source": [
        "new_lst = []\n",
        "for labels, pid, age, sex in df.values:\n",
        "  age = int(age[:3])\n",
        "  for label in labels.split(\"|\"):\n",
        "    new_lst.append({\"pid\": pid, \"age\": age, \"sex\": sex, \"label\": label})\n",
        "\n",
        "df_all = pd.DataFrame(new_lst).drop_duplicates().reset_index().drop(\"index\", axis=1)\n",
        "print(df_all.shape)\n",
        "df_all[:10]"
      ],
      "execution_count": null,
      "outputs": [
        {
          "output_type": "stream",
          "text": [
            "(77016, 4)\n"
          ],
          "name": "stdout"
        },
        {
          "output_type": "execute_result",
          "data": {
            "text/html": [
              "<div>\n",
              "<style scoped>\n",
              "    .dataframe tbody tr th:only-of-type {\n",
              "        vertical-align: middle;\n",
              "    }\n",
              "\n",
              "    .dataframe tbody tr th {\n",
              "        vertical-align: top;\n",
              "    }\n",
              "\n",
              "    .dataframe thead th {\n",
              "        text-align: right;\n",
              "    }\n",
              "</style>\n",
              "<table border=\"1\" class=\"dataframe\">\n",
              "  <thead>\n",
              "    <tr style=\"text-align: right;\">\n",
              "      <th></th>\n",
              "      <th>pid</th>\n",
              "      <th>age</th>\n",
              "      <th>sex</th>\n",
              "      <th>label</th>\n",
              "    </tr>\n",
              "  </thead>\n",
              "  <tbody>\n",
              "    <tr>\n",
              "      <th>0</th>\n",
              "      <td>1</td>\n",
              "      <td>58</td>\n",
              "      <td>M</td>\n",
              "      <td>Cardiomegaly</td>\n",
              "    </tr>\n",
              "    <tr>\n",
              "      <th>1</th>\n",
              "      <td>1</td>\n",
              "      <td>58</td>\n",
              "      <td>M</td>\n",
              "      <td>Emphysema</td>\n",
              "    </tr>\n",
              "    <tr>\n",
              "      <th>2</th>\n",
              "      <td>1</td>\n",
              "      <td>58</td>\n",
              "      <td>M</td>\n",
              "      <td>Effusion</td>\n",
              "    </tr>\n",
              "    <tr>\n",
              "      <th>3</th>\n",
              "      <td>2</td>\n",
              "      <td>81</td>\n",
              "      <td>M</td>\n",
              "      <td>No Finding</td>\n",
              "    </tr>\n",
              "    <tr>\n",
              "      <th>4</th>\n",
              "      <td>3</td>\n",
              "      <td>81</td>\n",
              "      <td>F</td>\n",
              "      <td>Hernia</td>\n",
              "    </tr>\n",
              "    <tr>\n",
              "      <th>5</th>\n",
              "      <td>3</td>\n",
              "      <td>74</td>\n",
              "      <td>F</td>\n",
              "      <td>Hernia</td>\n",
              "    </tr>\n",
              "    <tr>\n",
              "      <th>6</th>\n",
              "      <td>3</td>\n",
              "      <td>75</td>\n",
              "      <td>F</td>\n",
              "      <td>Hernia</td>\n",
              "    </tr>\n",
              "    <tr>\n",
              "      <th>7</th>\n",
              "      <td>3</td>\n",
              "      <td>76</td>\n",
              "      <td>F</td>\n",
              "      <td>Hernia</td>\n",
              "    </tr>\n",
              "    <tr>\n",
              "      <th>8</th>\n",
              "      <td>3</td>\n",
              "      <td>76</td>\n",
              "      <td>F</td>\n",
              "      <td>Infiltration</td>\n",
              "    </tr>\n",
              "    <tr>\n",
              "      <th>9</th>\n",
              "      <td>3</td>\n",
              "      <td>77</td>\n",
              "      <td>F</td>\n",
              "      <td>Hernia</td>\n",
              "    </tr>\n",
              "  </tbody>\n",
              "</table>\n",
              "</div>"
            ],
            "text/plain": [
              "   pid  age sex         label\n",
              "0    1   58   M  Cardiomegaly\n",
              "1    1   58   M     Emphysema\n",
              "2    1   58   M      Effusion\n",
              "3    2   81   M    No Finding\n",
              "4    3   81   F        Hernia\n",
              "5    3   74   F        Hernia\n",
              "6    3   75   F        Hernia\n",
              "7    3   76   F        Hernia\n",
              "8    3   76   F  Infiltration\n",
              "9    3   77   F        Hernia"
            ]
          },
          "metadata": {
            "tags": []
          },
          "execution_count": 4
        }
      ]
    },
    {
      "cell_type": "markdown",
      "metadata": {
        "id": "B-2zgr6YsgMx"
      },
      "source": [
        "Here, we can see that each row has a unique label, and the age field is in numerical values."
      ]
    },
    {
      "cell_type": "code",
      "metadata": {
        "colab": {
          "base_uri": "https://localhost:8080/",
          "height": 381
        },
        "id": "MD-BpNTWOKrE",
        "outputId": "32772dc4-3820-4502-b800-7d07eec6a8ba"
      },
      "source": [
        "print(df_all.dtypes)\n",
        "df_all.describe()"
      ],
      "execution_count": null,
      "outputs": [
        {
          "output_type": "stream",
          "text": [
            "pid       int64\n",
            "age       int64\n",
            "sex      object\n",
            "label    object\n",
            "dtype: object\n"
          ],
          "name": "stdout"
        },
        {
          "output_type": "execute_result",
          "data": {
            "text/html": [
              "<div>\n",
              "<style scoped>\n",
              "    .dataframe tbody tr th:only-of-type {\n",
              "        vertical-align: middle;\n",
              "    }\n",
              "\n",
              "    .dataframe tbody tr th {\n",
              "        vertical-align: top;\n",
              "    }\n",
              "\n",
              "    .dataframe thead th {\n",
              "        text-align: right;\n",
              "    }\n",
              "</style>\n",
              "<table border=\"1\" class=\"dataframe\">\n",
              "  <thead>\n",
              "    <tr style=\"text-align: right;\">\n",
              "      <th></th>\n",
              "      <th>pid</th>\n",
              "      <th>age</th>\n",
              "    </tr>\n",
              "  </thead>\n",
              "  <tbody>\n",
              "    <tr>\n",
              "      <th>count</th>\n",
              "      <td>77016.000000</td>\n",
              "      <td>77016.000000</td>\n",
              "    </tr>\n",
              "    <tr>\n",
              "      <th>mean</th>\n",
              "      <td>14289.182209</td>\n",
              "      <td>47.508635</td>\n",
              "    </tr>\n",
              "    <tr>\n",
              "      <th>std</th>\n",
              "      <td>8673.706259</td>\n",
              "      <td>17.028404</td>\n",
              "    </tr>\n",
              "    <tr>\n",
              "      <th>min</th>\n",
              "      <td>1.000000</td>\n",
              "      <td>1.000000</td>\n",
              "    </tr>\n",
              "    <tr>\n",
              "      <th>25%</th>\n",
              "      <td>6822.000000</td>\n",
              "      <td>36.000000</td>\n",
              "    </tr>\n",
              "    <tr>\n",
              "      <th>50%</th>\n",
              "      <td>14009.500000</td>\n",
              "      <td>49.000000</td>\n",
              "    </tr>\n",
              "    <tr>\n",
              "      <th>75%</th>\n",
              "      <td>21112.000000</td>\n",
              "      <td>60.000000</td>\n",
              "    </tr>\n",
              "    <tr>\n",
              "      <th>max</th>\n",
              "      <td>30805.000000</td>\n",
              "      <td>414.000000</td>\n",
              "    </tr>\n",
              "  </tbody>\n",
              "</table>\n",
              "</div>"
            ],
            "text/plain": [
              "                pid           age\n",
              "count  77016.000000  77016.000000\n",
              "mean   14289.182209     47.508635\n",
              "std     8673.706259     17.028404\n",
              "min        1.000000      1.000000\n",
              "25%     6822.000000     36.000000\n",
              "50%    14009.500000     49.000000\n",
              "75%    21112.000000     60.000000\n",
              "max    30805.000000    414.000000"
            ]
          },
          "metadata": {
            "tags": []
          },
          "execution_count": 5
        }
      ]
    },
    {
      "cell_type": "markdown",
      "metadata": {
        "id": "olnCDyoQswy8"
      },
      "source": [
        "However, I notice that the maximum of the age is 414! To make sure what happen, let's visualize it using the box plot:"
      ]
    },
    {
      "cell_type": "code",
      "metadata": {
        "colab": {
          "base_uri": "https://localhost:8080/",
          "height": 351
        },
        "id": "0y29qDURuTdO",
        "outputId": "49509503-c256-483a-8d02-c55b1835c2cf"
      },
      "source": [
        "sns.boxplot(df_all.age)"
      ],
      "execution_count": null,
      "outputs": [
        {
          "output_type": "stream",
          "text": [
            "/usr/local/lib/python3.7/dist-packages/seaborn/_decorators.py:43: FutureWarning: Pass the following variable as a keyword arg: x. From version 0.12, the only valid positional argument will be `data`, and passing other arguments without an explicit keyword will result in an error or misinterpretation.\n",
            "  FutureWarning\n"
          ],
          "name": "stderr"
        },
        {
          "output_type": "execute_result",
          "data": {
            "text/plain": [
              "<matplotlib.axes._subplots.AxesSubplot at 0x7f70fdec4350>"
            ]
          },
          "metadata": {
            "tags": []
          },
          "execution_count": 6
        },
        {
          "output_type": "display_data",
          "data": {
            "image/png": "[encoded data removed]",
            "text/plain": [
              "<Figure size 432x288 with 1 Axes>"
            ]
          },
          "metadata": {
            "tags": [],
            "needs_background": "light"
          }
        }
      ]
    },
    {
      "cell_type": "markdown",
      "metadata": {
        "id": "JVCZLDqxuk8p"
      },
      "source": [
        "It turns out that there are some outlier (noise) of the data. Assuming the maximum of the age is 100, we shall elimiate values larger than 100."
      ]
    },
    {
      "cell_type": "code",
      "metadata": {
        "colab": {
          "base_uri": "https://localhost:8080/",
          "height": 373
        },
        "id": "5_QD4uT8OevH",
        "outputId": "37f4ba8b-6741-4af2-f40e-e2c68588071e"
      },
      "source": [
        "df_all = df_all[df_all.age<=100]\n",
        "print(df_all.shape)\n",
        "df_all[:10]"
      ],
      "execution_count": null,
      "outputs": [
        {
          "output_type": "stream",
          "text": [
            "(76996, 4)\n"
          ],
          "name": "stdout"
        },
        {
          "output_type": "execute_result",
          "data": {
            "text/html": [
              "<div>\n",
              "<style scoped>\n",
              "    .dataframe tbody tr th:only-of-type {\n",
              "        vertical-align: middle;\n",
              "    }\n",
              "\n",
              "    .dataframe tbody tr th {\n",
              "        vertical-align: top;\n",
              "    }\n",
              "\n",
              "    .dataframe thead th {\n",
              "        text-align: right;\n",
              "    }\n",
              "</style>\n",
              "<table border=\"1\" class=\"dataframe\">\n",
              "  <thead>\n",
              "    <tr style=\"text-align: right;\">\n",
              "      <th></th>\n",
              "      <th>pid</th>\n",
              "      <th>age</th>\n",
              "      <th>sex</th>\n",
              "      <th>label</th>\n",
              "    </tr>\n",
              "  </thead>\n",
              "  <tbody>\n",
              "    <tr>\n",
              "      <th>0</th>\n",
              "      <td>1</td>\n",
              "      <td>58</td>\n",
              "      <td>M</td>\n",
              "      <td>Cardiomegaly</td>\n",
              "    </tr>\n",
              "    <tr>\n",
              "      <th>1</th>\n",
              "      <td>1</td>\n",
              "      <td>58</td>\n",
              "      <td>M</td>\n",
              "      <td>Emphysema</td>\n",
              "    </tr>\n",
              "    <tr>\n",
              "      <th>2</th>\n",
              "      <td>1</td>\n",
              "      <td>58</td>\n",
              "      <td>M</td>\n",
              "      <td>Effusion</td>\n",
              "    </tr>\n",
              "    <tr>\n",
              "      <th>3</th>\n",
              "      <td>2</td>\n",
              "      <td>81</td>\n",
              "      <td>M</td>\n",
              "      <td>No Finding</td>\n",
              "    </tr>\n",
              "    <tr>\n",
              "      <th>4</th>\n",
              "      <td>3</td>\n",
              "      <td>81</td>\n",
              "      <td>F</td>\n",
              "      <td>Hernia</td>\n",
              "    </tr>\n",
              "    <tr>\n",
              "      <th>5</th>\n",
              "      <td>3</td>\n",
              "      <td>74</td>\n",
              "      <td>F</td>\n",
              "      <td>Hernia</td>\n",
              "    </tr>\n",
              "    <tr>\n",
              "      <th>6</th>\n",
              "      <td>3</td>\n",
              "      <td>75</td>\n",
              "      <td>F</td>\n",
              "      <td>Hernia</td>\n",
              "    </tr>\n",
              "    <tr>\n",
              "      <th>7</th>\n",
              "      <td>3</td>\n",
              "      <td>76</td>\n",
              "      <td>F</td>\n",
              "      <td>Hernia</td>\n",
              "    </tr>\n",
              "    <tr>\n",
              "      <th>8</th>\n",
              "      <td>3</td>\n",
              "      <td>76</td>\n",
              "      <td>F</td>\n",
              "      <td>Infiltration</td>\n",
              "    </tr>\n",
              "    <tr>\n",
              "      <th>9</th>\n",
              "      <td>3</td>\n",
              "      <td>77</td>\n",
              "      <td>F</td>\n",
              "      <td>Hernia</td>\n",
              "    </tr>\n",
              "  </tbody>\n",
              "</table>\n",
              "</div>"
            ],
            "text/plain": [
              "   pid  age sex         label\n",
              "0    1   58   M  Cardiomegaly\n",
              "1    1   58   M     Emphysema\n",
              "2    1   58   M      Effusion\n",
              "3    2   81   M    No Finding\n",
              "4    3   81   F        Hernia\n",
              "5    3   74   F        Hernia\n",
              "6    3   75   F        Hernia\n",
              "7    3   76   F        Hernia\n",
              "8    3   76   F  Infiltration\n",
              "9    3   77   F        Hernia"
            ]
          },
          "metadata": {
            "tags": []
          },
          "execution_count": 7
        }
      ]
    },
    {
      "cell_type": "markdown",
      "metadata": {
        "id": "XivESsAju1uU"
      },
      "source": [
        "Now the outliers has been elimiated. However, things are not done yet. In rows 3 to 9, the same patient may have different age values! After investigation on the original feature of the NIH data, I realize the reason is due to the different follow-up IDs. Which means, a patient may take X-rays image in different periods. For simplicity, I ignore the follow-up ID and take the mean age for each patient. To do this, let's use the transformation with lambda function."
      ]
    },
    {
      "cell_type": "code",
      "metadata": {
        "colab": {
          "base_uri": "https://localhost:8080/",
          "height": 373
        },
        "id": "PAVnOZmTFtOZ",
        "outputId": "7476ea09-a7fa-4956-b958-6848860efbc8"
      },
      "source": [
        "df_all[\"age\"] = df_all.groupby(\"pid\")[\"age\"].transform(lambda x: int(np.mean(x)))\n",
        "df_all = df_all.drop_duplicates().reset_index().drop(\"index\", axis=1)\n",
        "print(df_all.shape)\n",
        "df_all[:10]"
      ],
      "execution_count": null,
      "outputs": [
        {
          "output_type": "stream",
          "text": [
            "(59795, 4)\n"
          ],
          "name": "stdout"
        },
        {
          "output_type": "execute_result",
          "data": {
            "text/html": [
              "<div>\n",
              "<style scoped>\n",
              "    .dataframe tbody tr th:only-of-type {\n",
              "        vertical-align: middle;\n",
              "    }\n",
              "\n",
              "    .dataframe tbody tr th {\n",
              "        vertical-align: top;\n",
              "    }\n",
              "\n",
              "    .dataframe thead th {\n",
              "        text-align: right;\n",
              "    }\n",
              "</style>\n",
              "<table border=\"1\" class=\"dataframe\">\n",
              "  <thead>\n",
              "    <tr style=\"text-align: right;\">\n",
              "      <th></th>\n",
              "      <th>pid</th>\n",
              "      <th>age</th>\n",
              "      <th>sex</th>\n",
              "      <th>label</th>\n",
              "    </tr>\n",
              "  </thead>\n",
              "  <tbody>\n",
              "    <tr>\n",
              "      <th>0</th>\n",
              "      <td>1</td>\n",
              "      <td>58</td>\n",
              "      <td>M</td>\n",
              "      <td>Cardiomegaly</td>\n",
              "    </tr>\n",
              "    <tr>\n",
              "      <th>1</th>\n",
              "      <td>1</td>\n",
              "      <td>58</td>\n",
              "      <td>M</td>\n",
              "      <td>Emphysema</td>\n",
              "    </tr>\n",
              "    <tr>\n",
              "      <th>2</th>\n",
              "      <td>1</td>\n",
              "      <td>58</td>\n",
              "      <td>M</td>\n",
              "      <td>Effusion</td>\n",
              "    </tr>\n",
              "    <tr>\n",
              "      <th>3</th>\n",
              "      <td>2</td>\n",
              "      <td>81</td>\n",
              "      <td>M</td>\n",
              "      <td>No Finding</td>\n",
              "    </tr>\n",
              "    <tr>\n",
              "      <th>4</th>\n",
              "      <td>3</td>\n",
              "      <td>77</td>\n",
              "      <td>F</td>\n",
              "      <td>Hernia</td>\n",
              "    </tr>\n",
              "    <tr>\n",
              "      <th>5</th>\n",
              "      <td>3</td>\n",
              "      <td>77</td>\n",
              "      <td>F</td>\n",
              "      <td>Infiltration</td>\n",
              "    </tr>\n",
              "    <tr>\n",
              "      <th>6</th>\n",
              "      <td>4</td>\n",
              "      <td>82</td>\n",
              "      <td>M</td>\n",
              "      <td>Mass</td>\n",
              "    </tr>\n",
              "    <tr>\n",
              "      <th>7</th>\n",
              "      <td>4</td>\n",
              "      <td>82</td>\n",
              "      <td>M</td>\n",
              "      <td>Nodule</td>\n",
              "    </tr>\n",
              "    <tr>\n",
              "      <th>8</th>\n",
              "      <td>5</td>\n",
              "      <td>69</td>\n",
              "      <td>F</td>\n",
              "      <td>No Finding</td>\n",
              "    </tr>\n",
              "    <tr>\n",
              "      <th>9</th>\n",
              "      <td>5</td>\n",
              "      <td>69</td>\n",
              "      <td>F</td>\n",
              "      <td>Infiltration</td>\n",
              "    </tr>\n",
              "  </tbody>\n",
              "</table>\n",
              "</div>"
            ],
            "text/plain": [
              "   pid  age sex         label\n",
              "0    1   58   M  Cardiomegaly\n",
              "1    1   58   M     Emphysema\n",
              "2    1   58   M      Effusion\n",
              "3    2   81   M    No Finding\n",
              "4    3   77   F        Hernia\n",
              "5    3   77   F  Infiltration\n",
              "6    4   82   M          Mass\n",
              "7    4   82   M        Nodule\n",
              "8    5   69   F    No Finding\n",
              "9    5   69   F  Infiltration"
            ]
          },
          "metadata": {
            "tags": []
          },
          "execution_count": 8
        }
      ]
    },
    {
      "cell_type": "markdown",
      "metadata": {
        "id": "G23XUUUjvvBt"
      },
      "source": [
        "This time, the value of age becomes identical for each patient.\n",
        "\n",
        "Lastly, we shall make sure whether the age value and sex are unique given a patient ID. To do this, let's ignore the finding labels and drop duplicate entries, and check if all PIDs have a unique age and sex. That's being said, each PID should have a unique row because, if a patient ID does not have a unique age or sex, such ID should appear in multiple rows."
      ]
    },
    {
      "cell_type": "code",
      "metadata": {
        "colab": {
          "base_uri": "https://localhost:8080/",
          "height": 202
        },
        "id": "TFBWTeH2NHAO",
        "outputId": "e1edb5a9-2887-4b94-ed28-a6035b6c59ab"
      },
      "source": [
        "df_meta = df_all.drop(\"label\", axis=1).drop_duplicates()\n",
        "df_meta.head()"
      ],
      "execution_count": null,
      "outputs": [
        {
          "output_type": "execute_result",
          "data": {
            "text/html": [
              "<div>\n",
              "<style scoped>\n",
              "    .dataframe tbody tr th:only-of-type {\n",
              "        vertical-align: middle;\n",
              "    }\n",
              "\n",
              "    .dataframe tbody tr th {\n",
              "        vertical-align: top;\n",
              "    }\n",
              "\n",
              "    .dataframe thead th {\n",
              "        text-align: right;\n",
              "    }\n",
              "</style>\n",
              "<table border=\"1\" class=\"dataframe\">\n",
              "  <thead>\n",
              "    <tr style=\"text-align: right;\">\n",
              "      <th></th>\n",
              "      <th>pid</th>\n",
              "      <th>age</th>\n",
              "      <th>sex</th>\n",
              "    </tr>\n",
              "  </thead>\n",
              "  <tbody>\n",
              "    <tr>\n",
              "      <th>0</th>\n",
              "      <td>1</td>\n",
              "      <td>58</td>\n",
              "      <td>M</td>\n",
              "    </tr>\n",
              "    <tr>\n",
              "      <th>3</th>\n",
              "      <td>2</td>\n",
              "      <td>81</td>\n",
              "      <td>M</td>\n",
              "    </tr>\n",
              "    <tr>\n",
              "      <th>4</th>\n",
              "      <td>3</td>\n",
              "      <td>77</td>\n",
              "      <td>F</td>\n",
              "    </tr>\n",
              "    <tr>\n",
              "      <th>6</th>\n",
              "      <td>4</td>\n",
              "      <td>82</td>\n",
              "      <td>M</td>\n",
              "    </tr>\n",
              "    <tr>\n",
              "      <th>8</th>\n",
              "      <td>5</td>\n",
              "      <td>69</td>\n",
              "      <td>F</td>\n",
              "    </tr>\n",
              "  </tbody>\n",
              "</table>\n",
              "</div>"
            ],
            "text/plain": [
              "   pid  age sex\n",
              "0    1   58   M\n",
              "3    2   81   M\n",
              "4    3   77   F\n",
              "6    4   82   M\n",
              "8    5   69   F"
            ]
          },
          "metadata": {
            "tags": []
          },
          "execution_count": 9
        }
      ]
    },
    {
      "cell_type": "code",
      "metadata": {
        "colab": {
          "base_uri": "https://localhost:8080/"
        },
        "id": "iu_kABWaSDJP",
        "outputId": "f664c51e-56e5-4baf-b478-8bbab9fe067f"
      },
      "source": [
        "df_meta.pid.is_unique"
      ],
      "execution_count": null,
      "outputs": [
        {
          "output_type": "execute_result",
          "data": {
            "text/plain": [
              "True"
            ]
          },
          "metadata": {
            "tags": []
          },
          "execution_count": 10
        }
      ]
    },
    {
      "cell_type": "markdown",
      "metadata": {
        "id": "DoQPL-a7w0q9"
      },
      "source": [
        "Since each PID has unique row, we can ensure that each patient has been assigned an unique age and sex.\n",
        "\n",
        "To conclude, in this section we have done:\n",
        "1. Split multi-labeled entries into multiple rows with unique label.\n",
        "2. Convert age values into numerical values.\n",
        "3. Elimiate age values which exceeds 100.\n",
        "4. Average age values given a patient ID for simplicity."
      ]
    },
    {
      "cell_type": "markdown",
      "metadata": {
        "id": "W3e-j0EkxWLj"
      },
      "source": [
        "<h2><b><u>3. Data Analysis</u></b></h2>"
      ]
    },
    {
      "cell_type": "markdown",
      "metadata": {
        "id": "wKJI6wCZxayH"
      },
      "source": [
        "After pre-processing our data, we can analyze our data distribution.\n",
        "\n",
        "First, we look at the age distribution:"
      ]
    },
    {
      "cell_type": "code",
      "metadata": {
        "colab": {
          "base_uri": "https://localhost:8080/",
          "height": 351
        },
        "id": "LriE07_aPPxG",
        "outputId": "0405e45c-292f-452a-bdfd-140d48db9e12"
      },
      "source": [
        "sns.boxplot(df_meta.age)"
      ],
      "execution_count": null,
      "outputs": [
        {
          "output_type": "stream",
          "text": [
            "/usr/local/lib/python3.7/dist-packages/seaborn/_decorators.py:43: FutureWarning: Pass the following variable as a keyword arg: x. From version 0.12, the only valid positional argument will be `data`, and passing other arguments without an explicit keyword will result in an error or misinterpretation.\n",
            "  FutureWarning\n"
          ],
          "name": "stderr"
        },
        {
          "output_type": "execute_result",
          "data": {
            "text/plain": [
              "<matplotlib.axes._subplots.AxesSubplot at 0x7f70fb42bc10>"
            ]
          },
          "metadata": {
            "tags": []
          },
          "execution_count": 11
        },
        {
          "output_type": "display_data",
          "data": {
            "image/png": "[encoded data removed]",
            "text/plain": [
              "<Figure size 432x288 with 1 Axes>"
            ]
          },
          "metadata": {
            "tags": [],
            "needs_background": "light"
          }
        }
      ]
    },
    {
      "cell_type": "markdown",
      "metadata": {
        "id": "qH5Kf5ymxmAV"
      },
      "source": [
        "Here, the medium of the age is about 50, and the range of the age is about 90.\n",
        "\n",
        "Second, let's look at the gender distribution:"
      ]
    },
    {
      "cell_type": "code",
      "metadata": {
        "colab": {
          "base_uri": "https://localhost:8080/",
          "height": 297
        },
        "id": "AFGobHnVR7r3",
        "outputId": "bcce75ec-0bba-405e-ca72-6b6fc19a88d0"
      },
      "source": [
        "sns.histplot(df_meta.sex, shrink=.7)"
      ],
      "execution_count": null,
      "outputs": [
        {
          "output_type": "execute_result",
          "data": {
            "text/plain": [
              "<matplotlib.axes._subplots.AxesSubplot at 0x7f70f8f70c90>"
            ]
          },
          "metadata": {
            "tags": []
          },
          "execution_count": 12
        },
        {
          "output_type": "display_data",
          "data": {
            "image/png": "[encoded data removed]",
            "text/plain": [
              "<Figure size 432x288 with 1 Axes>"
            ]
          },
          "metadata": {
            "tags": [],
            "needs_background": "light"
          }
        }
      ]
    },
    {
      "cell_type": "markdown",
      "metadata": {
        "id": "_mWgwC0Bx38X"
      },
      "source": [
        "There are more males than females, but the difference is not noticeable.\n",
        "\n",
        "Finally, let's look at the label distribution:"
      ]
    },
    {
      "cell_type": "code",
      "metadata": {
        "colab": {
          "base_uri": "https://localhost:8080/"
        },
        "id": "zOCu5h3cSyyN",
        "outputId": "4a242918-cd88-4995-cd59-d96603ae9aa5"
      },
      "source": [
        "df_all.label.value_counts()"
      ],
      "execution_count": null,
      "outputs": [
        {
          "output_type": "execute_result",
          "data": {
            "text/plain": [
              "No Finding            24909\n",
              "Infiltration           8029\n",
              "Atelectasis            4973\n",
              "Effusion               4273\n",
              "Nodule                 3390\n",
              "Mass                   2549\n",
              "Consolidation          2150\n",
              "Pleural_Thickening     2006\n",
              "Cardiomegaly           1565\n",
              "Pneumothorax           1484\n",
              "Fibrosis               1260\n",
              "Edema                  1072\n",
              "Emphysema              1046\n",
              "Pneumonia               955\n",
              "Hernia                  134\n",
              "Name: label, dtype: int64"
            ]
          },
          "metadata": {
            "tags": []
          },
          "execution_count": 13
        }
      ]
    },
    {
      "cell_type": "markdown",
      "metadata": {
        "id": "B51QNLhHyHc0"
      },
      "source": [
        "Within the 15 classes, \"No Finding\" appears most frequently, and Hernia appears least frequently. This makes sense since healthy people should be more than the sickness (otherwise most people should live in hospitals...)\n",
        "\n",
        "To sum up, we have these findings:\n",
        "1. most of the patients are middle-aged, and the range of patients is about 90.\n",
        "2. Male patients are more than female patients.\n",
        "3. Most images are presented \"No findings\", and the rarest disease is Hernia in this dataset."
      ]
    },
    {
      "cell_type": "markdown",
      "metadata": {
        "id": "uueV1POyzWTj"
      },
      "source": [
        "<h2><b><u>4. Hypothesis Testing</u></b></h2>"
      ]
    },
    {
      "cell_type": "markdown",
      "metadata": {
        "id": "ovBNsd8PSp6K"
      },
      "source": [
        "Until now, we make an naive analysis to our data. However, to ensure that our data does not have sample bias, we shall look deeper using hypothesis testing.\n",
        "\n",
        "In this section, I will test:\n",
        "\n",
        "1. whether the age distribution is normally distributed or not?\n",
        "2. given certain types of disease, whether the age distribution is normally distributed?\n",
        "3. do males and females have the same expected value of age? "
      ]
    },
    {
      "cell_type": "markdown",
      "metadata": {
        "id": "dtWVC3ct1Yr4"
      },
      "source": [
        "**[4-1] Whether the age distribution is normally distributed or not?**\n",
        "\n",
        "To do this, let's first visualize the age distribution using boxplot first:"
      ]
    },
    {
      "cell_type": "code",
      "metadata": {
        "colab": {
          "base_uri": "https://localhost:8080/",
          "height": 297
        },
        "id": "0xiEH1BNSUWn",
        "outputId": "3be342d8-01a5-4dd8-d776-9ab05cdb27d3"
      },
      "source": [
        "sns.histplot(df_meta.age, bins=100)"
      ],
      "execution_count": null,
      "outputs": [
        {
          "output_type": "execute_result",
          "data": {
            "text/plain": [
              "<matplotlib.axes._subplots.AxesSubplot at 0x7f70f8ea7fd0>"
            ]
          },
          "metadata": {
            "tags": []
          },
          "execution_count": 14
        },
        {
          "output_type": "display_data",
          "data": {
            "image/png": "[encoded data removed]",
            "text/plain": [
              "<Figure size 432x288 with 1 Axes>"
            ]
          },
          "metadata": {
            "tags": [],
            "needs_background": "light"
          }
        }
      ]
    },
    {
      "cell_type": "markdown",
      "metadata": {
        "id": "C8yq9nFM1mZx"
      },
      "source": [
        "Though it seems like a normal distribution, we need to test it for sure. However, we cannot use *scipy.stats.normaltest* here, since our age data is **categorical** (integer values only). \n",
        "\n",
        "If we simply conduct the *scipy.stats.normaltest*, it will produce a p-value:"
      ]
    },
    {
      "cell_type": "code",
      "metadata": {
        "colab": {
          "base_uri": "https://localhost:8080/"
        },
        "id": "eb9hLpnOZCrA",
        "outputId": "4d66732e-3902-4f28-ff6f-a834a2516ade"
      },
      "source": [
        "_, p = normaltest(df_meta.age)\n",
        "p"
      ],
      "execution_count": null,
      "outputs": [
        {
          "output_type": "execute_result",
          "data": {
            "text/plain": [
              "1.0485765585449507e-163"
            ]
          },
          "metadata": {
            "tags": []
          },
          "execution_count": 15
        }
      ]
    },
    {
      "cell_type": "markdown",
      "metadata": {
        "id": "uxsF2_F-TuuL"
      },
      "source": [
        "Which is extremely small. Such normality test is only suitable for continuous data distribution.\n",
        "\n",
        "**To assess normality for our categorical data**, we use a heuristic approach:\n",
        "1. Calculate the mean and standard deviation of the age data\n",
        "2. Sample sufficient samples (e.g. 10,000,000) from a normal distribution given the the calculated mean and standard deviation\n",
        "3. Categorized and squeezed the age samples to integers between [1, 100]\n",
        "4. Use Chi-square test to judge whether the age distribution is similar to the sampled distribution\n",
        "\n",
        "The assumption we made here is that the sampled distribution can represent the normal distribution, since we sample large enough data. Note that if we increase the sample size, the judgment will be more reliable since the sample data can be more approximated to normal.\n",
        "\n",
        "Of course, this is a heuristic method and **does not guarantee the best way to evaluate** whether a categorical is approximately normal.\n",
        "\n",
        "Now we do the approximation to our age data:"
      ]
    },
    {
      "cell_type": "code",
      "metadata": {
        "id": "2UhkQOYtCXVE"
      },
      "source": [
        "np.random.seed(0)\n",
        "\n",
        "mean, std = np.mean(df_meta.age), np.std(df_meta.age)\n",
        "sample = np.random.normal(mean, std, 10000000)\n",
        "sample = [int(x) for x in sample if int(x) > 0 and int(x) <= 100] # categorize"
      ],
      "execution_count": null,
      "outputs": []
    },
    {
      "cell_type": "markdown",
      "metadata": {
        "id": "0FY9bbZYWcnD"
      },
      "source": [
        "We can use the histogram to see what happens here:"
      ]
    },
    {
      "cell_type": "code",
      "metadata": {
        "colab": {
          "base_uri": "https://localhost:8080/",
          "height": 313
        },
        "id": "kSS4QgH5Qiyu",
        "outputId": "7cba0d27-0fa9-4a72-a98e-d5db37030e83"
      },
      "source": [
        "n1, _, _ = plt.hist(df_meta.age, color=\"blue\", density=True, bins=50, alpha=0.7, label=\"original data\")\n",
        "n2, _, _ = plt.hist(sample, color=\"orange\", density=True, bins=50, alpha=0.7, label=\"sampled data (normal)\")\n",
        "plt.legend(loc=\"best\")\n",
        "plt.xlabel(\"Age\")\n",
        "plt.ylabel(\"Probability\")\n",
        "plt.title(\"Age Distribution\")"
      ],
      "execution_count": null,
      "outputs": [
        {
          "output_type": "execute_result",
          "data": {
            "text/plain": [
              "Text(0.5, 1.0, 'Age Distribution')"
            ]
          },
          "metadata": {
            "tags": []
          },
          "execution_count": 17
        },
        {
          "output_type": "display_data",
          "data": {
            "image/png": "[encoded data removed]",
            "text/plain": [
              "<Figure size 432x288 with 1 Axes>"
            ]
          },
          "metadata": {
            "tags": [],
            "needs_background": "light"
          }
        }
      ]
    },
    {
      "cell_type": "markdown",
      "metadata": {
        "id": "ldhJDDSmWCok"
      },
      "source": [
        "Again, we **assume** that the sampled data can be approximated to the normal distribution, and can be used for judging the normality of categorical data.\n",
        "\n",
        "Next, we use the chi-square test to see whether the two distributions are similar. To be more specific, we have a null hypothesis and an alternative hypothesis according to the [chi-square test documentation](https://docs.scipy.org/doc/scipy/reference/generated/scipy.stats.chisquare.html):\n",
        "\n",
        "\n",
        "*   H0: The age distribution has the frequencies given by a sampled normal distribution.\n",
        "*   H1: The age distribution does not have the frequencies given by a sampled normal distribution.\n",
        "\n",
        "First, let's define our *normaltest* for discrete version:\n",
        "\n"
      ]
    },
    {
      "cell_type": "code",
      "metadata": {
        "id": "zEenHakAKlNc"
      },
      "source": [
        "def normaltest_discrete(n1, n2, trial, is_plot=True):\n",
        "  N1 = (n1*trial)\n",
        "  N2 = (n2*trial)\n",
        "\n",
        "  if is_plot:\n",
        "    plt.plot(N1, color=\"blue\", label=\"original data\")\n",
        "    plt.plot(N2, color=\"orange\", label=\"sampled data (normal)\")\n",
        "    plt.legend(loc=\"best\")\n",
        "    plt.xlabel(\"Age\")\n",
        "    plt.ylabel(\"Count\")\n",
        "    plt.title(\"Simulated Output (trial={})\".format(trial))\n",
        "\n",
        "  _, p = chisquare(N1, N2)\n",
        "  return p"
      ],
      "execution_count": null,
      "outputs": []
    },
    {
      "cell_type": "markdown",
      "metadata": {
        "id": "rKDL4-TVUUgP"
      },
      "source": [
        "\n",
        "There are some parameters above:\n",
        "\n",
        "*   n1: density value of the histogram bins #1\n",
        "*   n2: density value of the histogram bins #2\n",
        "*   trial: # of experimental trials\n",
        "*   is_plot: whether to visualize using *matplotlib*\n",
        "\n",
        "Note that *scipy.stats.chisquare* should have the number of observations as input (instead of the probability), so we need to simulate some synthetic observations by multiplying the probability by number of trials. The number of trials is a hyper-parameter we shall tune by ourselves.\n",
        "\n",
        "First, let's set number of trial as 1000, and the corresponded p-value is:"
      ]
    },
    {
      "cell_type": "code",
      "metadata": {
        "colab": {
          "base_uri": "https://localhost:8080/",
          "height": 313
        },
        "id": "RQ_LDi_zJ4m6",
        "outputId": "174ee7cd-7b89-4ed4-b4d8-b75088207912"
      },
      "source": [
        "normaltest_discrete(n1, n2, 1000)"
      ],
      "execution_count": null,
      "outputs": [
        {
          "output_type": "execute_result",
          "data": {
            "text/plain": [
              "0.062421445802256156"
            ]
          },
          "metadata": {
            "tags": []
          },
          "execution_count": 19
        },
        {
          "output_type": "display_data",
          "data": {
            "image/png": "[encoded data removed]",
            "text/plain": [
              "<Figure size 432x288 with 1 Axes>"
            ]
          },
          "metadata": {
            "tags": [],
            "needs_background": "light"
          }
        }
      ]
    },
    {
      "cell_type": "markdown",
      "metadata": {
        "id": "N3HVBB-EVj-C"
      },
      "source": [
        "\n",
        "\n",
        "Since the p-value is larger than 0.05, we fail to reject the null hypothesis. Considering the 1000-trials experiment, we acknowledge that **the age distribution approximates to the frequencies given by a normal distribution**.\n",
        "\n",
        "However, the number of trials strongly affects the p-value, because larger number of trials yields a more strict rule of similarity measurement. Let's try different number of trials to show what it means:"
      ]
    },
    {
      "cell_type": "code",
      "metadata": {
        "colab": {
          "base_uri": "https://localhost:8080/",
          "height": 313
        },
        "id": "iqCneUewJ1DV",
        "outputId": "238f2a53-7c67-4a66-b614-d3a37f197830"
      },
      "source": [
        "normaltest_discrete(n1, n2, 100)"
      ],
      "execution_count": null,
      "outputs": [
        {
          "output_type": "execute_result",
          "data": {
            "text/plain": [
              "0.9999999999999497"
            ]
          },
          "metadata": {
            "tags": []
          },
          "execution_count": 20
        },
        {
          "output_type": "display_data",
          "data": {
            "image/png": "[encoded data removed]",
            "text/plain": [
              "<Figure size 432x288 with 1 Axes>"
            ]
          },
          "metadata": {
            "tags": [],
            "needs_background": "light"
          }
        }
      ]
    },
    {
      "cell_type": "code",
      "metadata": {
        "colab": {
          "base_uri": "https://localhost:8080/",
          "height": 313
        },
        "id": "RJ7xcgRnKanl",
        "outputId": "d8a5b1a5-b7cf-4dd5-a250-a2a4023c910d"
      },
      "source": [
        "normaltest_discrete(n1, n2, 10000)"
      ],
      "execution_count": null,
      "outputs": [
        {
          "output_type": "execute_result",
          "data": {
            "text/plain": [
              "6.091051967725855e-106"
            ]
          },
          "metadata": {
            "tags": []
          },
          "execution_count": 21
        },
        {
          "output_type": "display_data",
          "data": {
            "image/png": "[encoded data removed]",
            "text/plain": [
              "<Figure size 432x288 with 1 Axes>"
            ]
          },
          "metadata": {
            "tags": [],
            "needs_background": "light"
          }
        }
      ]
    },
    {
      "cell_type": "markdown",
      "metadata": {
        "id": "JRx1GzsvKis_"
      },
      "source": [
        "We see that:\n",
        "\n",
        "\n",
        "*   If we set a small # trials (100), the p-value becomes very large, which makes the null hypothesis more acceptable.\n",
        "*   If we set a huge # trials (10000), the p-value becomes very small, which makes the null hypothesis very unlikely.\n",
        "\n",
        "Therefore, the sample bias should be a big issue here. For simplicity, I ignore such an underlying problem and assume that 1000-trial is okay for the *discrete version* of the normality test.\n",
        "\n"
      ]
    },
    {
      "cell_type": "markdown",
      "metadata": {
        "id": "vH2yIUnhX56_"
      },
      "source": [
        "**[4-2] Given certain types of disease, whether the age distribution is normally distributed?**"
      ]
    },
    {
      "cell_type": "markdown",
      "metadata": {
        "id": "3gthWYq5Y_9J"
      },
      "source": [
        "Here, we will do the same *heuristic* statistical test method described above. \n",
        "\n",
        "Given a certain type of disease, we can draw a corresponded histogram plot:"
      ]
    },
    {
      "cell_type": "code",
      "metadata": {
        "colab": {
          "base_uri": "https://localhost:8080/",
          "height": 557
        },
        "id": "cd8TAGwNWVAQ",
        "outputId": "c14a0a92-1661-44e0-f5fa-359479e90ae5"
      },
      "source": [
        "np.random.seed(0)\n",
        "\n",
        "origin_lst = []\n",
        "sample_lst = []\n",
        "\n",
        "fig, axes = plt.subplots(4, 4)\n",
        "fig.set_size_inches(9, 9)\n",
        "for ax, label in zip(axes.ravel(), df_all.label.unique()):\n",
        "  # original data\n",
        "  df_partial = df_all[df_all.label == label].drop(\"label\", axis=1).drop_duplicates()\n",
        "  n1, _, _ = ax.hist(df_partial.age, bins=50, color=\"blue\", density=True, alpha=0.7)\n",
        "  origin_lst.append(n1)\n",
        "\n",
        "  # sample data from normal distribution\n",
        "  sample = np.random.normal(np.mean(df_partial.age), np.std(df_partial.age), 100000)\n",
        "  sample = [int(x) for x in sample if int(x) > 0 and int(x) <= 100] # categorize\n",
        "  n2, _, _ = ax.hist(sample, bins=50, color=\"orange\", density=True, alpha=0.7)\n",
        "  sample_lst.append(n2)\n",
        "\n",
        "  # Remove the ticks\n",
        "  ax.set_xticks([])\n",
        "  ax.set_yticks([])\n",
        "  ax.set_title(label)\n",
        "axes[3,3].set_xticks([])\n",
        "axes[3,3].set_yticks([])"
      ],
      "execution_count": null,
      "outputs": [
        {
          "output_type": "execute_result",
          "data": {
            "text/plain": [
              "[]"
            ]
          },
          "metadata": {
            "tags": []
          },
          "execution_count": 22
        },
        {
          "output_type": "display_data",
          "data": {
            "image/png": "[encoded data removed]",
            "text/plain": [
              "<Figure size 648x648 with 16 Axes>"
            ]
          },
          "metadata": {
            "tags": []
          }
        }
      ]
    },
    {
      "cell_type": "markdown",
      "metadata": {
        "id": "mw8MBHOLaY8z"
      },
      "source": [
        "Note that the blue histogram represents the original data, and the orange one represents the sample data retrieved from a categorized normal distribution. Next, given a disease, we want to calculate whether each distribution is approximately normal. The null hypothesis and the alternative hypothesis are:\n",
        "\n",
        "*   H0: The age distribution given by a certain disease has the frequencies given by a sampled normal distribution.\n",
        "*   H1: The age distribution given by a certain disease does not have the frequencies given by a sampled normal distribution.\n"
      ]
    },
    {
      "cell_type": "code",
      "metadata": {
        "id": "SzjULcGeNMVM"
      },
      "source": [
        "df_p = []\n",
        "for label, origin, sample in zip(df_all.label.unique(), origin_lst, sample_lst):\n",
        "  p = normaltest_discrete(origin, sample, 1000, is_plot=False)\n",
        "  df_p.append({\"label\": label, \"p-value\": p})\n",
        "df_p = pd.DataFrame(df_p)"
      ],
      "execution_count": null,
      "outputs": []
    },
    {
      "cell_type": "code",
      "metadata": {
        "id": "sel9mwSibXYl",
        "colab": {
          "base_uri": "https://localhost:8080/",
          "height": 202
        },
        "outputId": "888280b1-6596-4e9d-91f2-75db9d67d65d"
      },
      "source": [
        "df_p = df_p.sort_values(\"p-value\", ascending=False).reset_index().drop(\"index\", axis=1)\n",
        "df_p[:5]"
      ],
      "execution_count": null,
      "outputs": [
        {
          "output_type": "execute_result",
          "data": {
            "text/html": [
              "<div>\n",
              "<style scoped>\n",
              "    .dataframe tbody tr th:only-of-type {\n",
              "        vertical-align: middle;\n",
              "    }\n",
              "\n",
              "    .dataframe tbody tr th {\n",
              "        vertical-align: top;\n",
              "    }\n",
              "\n",
              "    .dataframe thead th {\n",
              "        text-align: right;\n",
              "    }\n",
              "</style>\n",
              "<table border=\"1\" class=\"dataframe\">\n",
              "  <thead>\n",
              "    <tr style=\"text-align: right;\">\n",
              "      <th></th>\n",
              "      <th>label</th>\n",
              "      <th>p-value</th>\n",
              "    </tr>\n",
              "  </thead>\n",
              "  <tbody>\n",
              "    <tr>\n",
              "      <th>0</th>\n",
              "      <td>No Finding</td>\n",
              "      <td>9.624230e-02</td>\n",
              "    </tr>\n",
              "    <tr>\n",
              "      <th>1</th>\n",
              "      <td>Consolidation</td>\n",
              "      <td>2.188610e-07</td>\n",
              "    </tr>\n",
              "    <tr>\n",
              "      <th>2</th>\n",
              "      <td>Infiltration</td>\n",
              "      <td>2.888963e-08</td>\n",
              "    </tr>\n",
              "    <tr>\n",
              "      <th>3</th>\n",
              "      <td>Nodule</td>\n",
              "      <td>3.376059e-09</td>\n",
              "    </tr>\n",
              "    <tr>\n",
              "      <th>4</th>\n",
              "      <td>Atelectasis</td>\n",
              "      <td>1.296929e-10</td>\n",
              "    </tr>\n",
              "  </tbody>\n",
              "</table>\n",
              "</div>"
            ],
            "text/plain": [
              "           label       p-value\n",
              "0     No Finding  9.624230e-02\n",
              "1  Consolidation  2.188610e-07\n",
              "2   Infiltration  2.888963e-08\n",
              "3         Nodule  3.376059e-09\n",
              "4    Atelectasis  1.296929e-10"
            ]
          },
          "metadata": {
            "tags": []
          },
          "execution_count": 24
        }
      ]
    },
    {
      "cell_type": "markdown",
      "metadata": {
        "id": "EU3k7_N7dBC9"
      },
      "source": [
        "We can see that only \"No Finding\" yields a p-value larger than 0.05, and the others yield p-values so small that we shall reject the null.\n",
        "\n",
        "That is to say, **only \"No Findings\" approximates a normal distribution, but the others are not.**"
      ]
    },
    {
      "cell_type": "markdown",
      "metadata": {
        "id": "hcieajDSLA2T"
      },
      "source": [
        "**[4-3] do males and females have the same expected value of age?** "
      ]
    },
    {
      "cell_type": "markdown",
      "metadata": {
        "id": "wZHXQmhgLTaL"
      },
      "source": [
        "Here we can use *scipy.stats.ttest_ind*. This is a two-sided test for the null hypothesis that 2 independent samples have identical average (expected) values. This test assumes that the populations have identical variances by default.\n",
        "\n",
        "First, we separate our age data into male and female groups:"
      ]
    },
    {
      "cell_type": "code",
      "metadata": {
        "id": "z3RqW7mbZNsR",
        "colab": {
          "base_uri": "https://localhost:8080/"
        },
        "outputId": "d4855caa-f0cf-4f49-f145-b6f5fa5cc79b"
      },
      "source": [
        "df_male = df_meta[df_meta.sex == \"M\"]\n",
        "df_female = df_meta[df_meta.sex == \"F\"]\n",
        "\n",
        "len(df_male), len(df_female)"
      ],
      "execution_count": null,
      "outputs": [
        {
          "output_type": "execute_result",
          "data": {
            "text/plain": [
              "(16629, 14173)"
            ]
          },
          "metadata": {
            "tags": []
          },
          "execution_count": 25
        }
      ]
    },
    {
      "cell_type": "markdown",
      "metadata": {
        "id": "6yisoMRTM5gb"
      },
      "source": [
        "To test whether two samples have identical variances, we can calculate it using *np.std*:"
      ]
    },
    {
      "cell_type": "code",
      "metadata": {
        "colab": {
          "base_uri": "https://localhost:8080/"
        },
        "id": "obaYWazAMySb",
        "outputId": "91a5ca4c-a0de-4d41-d4fc-b2ab3ecda7ad"
      },
      "source": [
        "np.std(df_male.age), np.std(df_female.age)"
      ],
      "execution_count": null,
      "outputs": [
        {
          "output_type": "execute_result",
          "data": {
            "text/plain": [
              "(17.09185313334399, 16.11211600798153)"
            ]
          },
          "metadata": {
            "tags": []
          },
          "execution_count": 26
        }
      ]
    },
    {
      "cell_type": "markdown",
      "metadata": {
        "id": "5GJv9sRaM7Qj"
      },
      "source": [
        "Since these two values are very closed to each other, we assume they have identical variances.\n",
        "\n",
        "Next, we show their density histgram plots:"
      ]
    },
    {
      "cell_type": "code",
      "metadata": {
        "colab": {
          "base_uri": "https://localhost:8080/",
          "height": 313
        },
        "id": "QOAZkblFOfby",
        "outputId": "5c701447-c26f-4fc6-c8d0-138cc5def5ff"
      },
      "source": [
        "N1, _, _ = plt.hist(df_male.age, bins=20, color=\"blue\", alpha=0.7, label=\"male\")\n",
        "N2, _, _ = plt.hist(df_female.age, bins=20, color=\"orange\", alpha=0.7, label=\"female\")\n",
        "plt.legend(loc=\"best\")\n",
        "plt.xlabel(\"Age\")\n",
        "plt.ylabel(\"Count\")\n",
        "plt.title(\"Density Histogram (nbins=20)\")"
      ],
      "execution_count": null,
      "outputs": [
        {
          "output_type": "execute_result",
          "data": {
            "text/plain": [
              "Text(0.5, 1.0, 'Density Histogram (nbins=20)')"
            ]
          },
          "metadata": {
            "tags": []
          },
          "execution_count": 27
        },
        {
          "output_type": "display_data",
          "data": {
            "image/png": "[encoded data removed]",
            "text/plain": [
              "<Figure size 432x288 with 1 Axes>"
            ]
          },
          "metadata": {
            "tags": [],
            "needs_background": "light"
          }
        }
      ]
    },
    {
      "cell_type": "markdown",
      "metadata": {
        "id": "JO2uIzUuNTMT"
      },
      "source": [
        "Each bin in the histogram has a range of 5, since we separate the whole range [1, 100] into 20 bins.\n",
        "\n",
        "Finally, we do the statistical test using *scipy.stats.ttest_ind*. The null hypothesis and the alternative hypothesis are:\n",
        "\n",
        "\n",
        "\n",
        "*   H0: two independent samples (male & female) have identical expected values.\n",
        "*   H1: two independent samples (male & female) do not have identical expected values.\n",
        "\n"
      ]
    },
    {
      "cell_type": "code",
      "metadata": {
        "colab": {
          "base_uri": "https://localhost:8080/"
        },
        "id": "oXXU7jcKTev9",
        "outputId": "e3a302db-64cc-4e68-df19-a76d5992ac39"
      },
      "source": [
        "_, p = ttest_ind(N1, N2)\n",
        "p"
      ],
      "execution_count": null,
      "outputs": [
        {
          "output_type": "execute_result",
          "data": {
            "text/plain": [
              "0.521818261903512"
            ]
          },
          "metadata": {
            "tags": []
          },
          "execution_count": 89
        }
      ]
    },
    {
      "cell_type": "markdown",
      "metadata": {
        "id": "0CN0He-LN5js"
      },
      "source": [
        "Since the p-value is larger than 0.05, we fail to reject the null hypothesis. \n",
        "\n",
        "That is to say, **the male group and the female group have the same averaged age value.**"
      ]
    },
    {
      "cell_type": "markdown",
      "metadata": {
        "id": "YBfhVCwdOWFH"
      },
      "source": [
        "<h2><b><u>5. Conclusions</u></b></h2>"
      ]
    },
    {
      "cell_type": "markdown",
      "metadata": {
        "id": "RdS-cw-WOhMn"
      },
      "source": [
        "In this project, we collect the NIH Chest X-ray dataset.\n",
        "\n",
        "1.   **In the Data Preparation phase**, we found its metadata contains 12 columns, and one of the columns represents several kinds of finding labels.\n",
        "2.   **In the Feature Engineering phase**, we remove outlier values in the age column, taking the average for the same patient, and split labels into several rows with unique values.\n",
        "3.   **In the Data Analysis phase**, we found most patients are middle-aged and male, and the dominant label is \"No Finding\" (i.e. healthy)\n",
        "4.   **In the Hypothesis Testing phase**, we use an approximation approach to state that the age distribution is normally distributed. Besides, each distribution given a certain type of disease is not normally distributed, except \"No Findings\". Finally, the male data and female data have the same expected age values."
      ]
    },
    {
      "cell_type": "markdown",
      "metadata": {
        "id": "p5_N6uiiQm1Y"
      },
      "source": [
        "<h2><b><u>6. Future Works</u></b></h2>"
      ]
    },
    {
      "cell_type": "markdown",
      "metadata": {
        "id": "B5_NJBn5QqzE"
      },
      "source": [
        "In our hypothesis-testing phase, we use an approximation approach to test the normality for discrete data distribution. However, there is no evidence that such a method is convincing or theoretical.\n",
        "\n",
        "Many real-world datasets include continuous features, such as people's height, ages, or days of recovery. However, all of these examples have discrete values, since their data types are integers instead of precise floating point numbers. How could we judge whether such data are normally distributed? We may need to figure out a better solution to approximate a normal test for a continuous case in the future."
      ]
    }
  ]
}