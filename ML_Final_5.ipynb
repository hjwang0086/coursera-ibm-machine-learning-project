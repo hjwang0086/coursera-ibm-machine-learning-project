{
  "nbformat": 4,
  "nbformat_minor": 0,
  "metadata": {
    "colab": {
      "name": "Final Project.ipynb",
      "provenance": [],
      "collapsed_sections": []
    },
    "kernelspec": {
      "name": "python3",
      "display_name": "Python 3"
    },
    "language_info": {
      "name": "python"
    },
    "accelerator": "GPU"
  },
  "cells": [
    {
      "cell_type": "markdown",
      "metadata": {
        "id": "_GzfViS_J80E"
      },
      "source": [
        ""
      ]
    },
    {
      "cell_type": "markdown",
      "metadata": {
        "id": "knHgTeaNNpVm"
      },
      "source": [
        "<h1>Assessing Model Complexity</h1>\n",
        "<h4>Editor: Daniel Wang</h4>"
      ]
    },
    {
      "cell_type": "markdown",
      "metadata": {
        "id": "LF1AiOnQN0K1"
      },
      "source": [
        "In the deep neural network domain, training on a deeper neural architecture often yields a better result, since deeper hidden layers can capture more complex features. However, is it true regardless of any other factors? So in this project, I will try to investigate whether a more complex DNN will always yield better performance."
      ]
    },
    {
      "cell_type": "code",
      "metadata": {
        "id": "OBKq6s8ayEVy"
      },
      "source": [
        "import tensorflow as tf\n",
        "import numpy as np"
      ],
      "execution_count": 8,
      "outputs": []
    },
    {
      "cell_type": "markdown",
      "metadata": {
        "id": "bBOt2exlOwem"
      },
      "source": [
        "In this project, I will use a subset of the MNIST training dataset, since training DNNs on the whole MNIST dataset often yield accuracy higher than 99%, which makes us hard to tell whether a model is better or not.\n",
        "<br>\n",
        "In this case, I only choose 2000 samples for training. Besides, I will try to resize the image from 28x28 into 32x32, for some of our models used later on are required to have an input image size of at least 32x32."
      ]
    },
    {
      "cell_type": "code",
      "metadata": {
        "colab": {
          "base_uri": "https://localhost:8080/"
        },
        "id": "kUVj3PqLyLVu",
        "outputId": "8d50b71d-7b5a-4d24-981d-3ce387352176"
      },
      "source": [
        "mnist = tf.keras.datasets.mnist\n",
        "(x_train, y_train), (x_test, y_test) = tf.keras.datasets.mnist.load_data()\n",
        "\n",
        "x_train = np.expand_dims(x_train, axis=-1)\n",
        "x_train = tf.image.resize(x_train, [32, 32]) / 255.\n",
        "x_train = x_train[:2000]\n",
        "\n",
        "y_train = y_train[:2000]\n",
        "y_train = tf.keras.utils.to_categorical(y_train, 10)\n",
        "\n",
        "x_test = np.expand_dims(x_test, axis=-1)\n",
        "x_test = tf.image.resize(x_test, [32, 32]) / 255.\n",
        "\n",
        "y_test = tf.keras.utils.to_categorical(y_test, 10)\n",
        "\n",
        "print(\"x_train\", x_train.shape)\n",
        "print(\"y_train\", y_train.shape)\n",
        "print(\"x_test\", x_test.shape)\n",
        "print(\"y_test\", y_test.shape)"
      ],
      "execution_count": 9,
      "outputs": [
        {
          "output_type": "stream",
          "text": [
            "x_train (2000, 32, 32, 1)\n",
            "y_train (2000, 10)\n",
            "x_test (10000, 32, 32, 1)\n",
            "y_test (10000, 10)\n"
          ],
          "name": "stdout"
        }
      ]
    },
    {
      "cell_type": "markdown",
      "metadata": {
        "id": "6lpvlpLBPI_c"
      },
      "source": [
        "Let's visualize some sample images."
      ]
    },
    {
      "cell_type": "code",
      "metadata": {
        "colab": {
          "base_uri": "https://localhost:8080/",
          "height": 219
        },
        "id": "pNnoylHfyltx",
        "outputId": "84b3fa5e-8d7a-4d96-842b-88844dd0c00a"
      },
      "source": [
        "import matplotlib.pyplot as plt\n",
        "fig, axes = plt.subplots(1, 2)\n",
        "axes[0].imshow(x_train[0,:,:,0], cmap=\"gray\")\n",
        "axes[1].imshow(x_test[0,:,:,0], cmap=\"gray\")"
      ],
      "execution_count": 10,
      "outputs": [
        {
          "output_type": "execute_result",
          "data": {
            "text/plain": [
              "<matplotlib.image.AxesImage at 0x7f6274196fd0>"
            ]
          },
          "metadata": {
            "tags": []
          },
          "execution_count": 10
        },
        {
          "output_type": "display_data",
          "data": {
            "image/png": "[encoded data removed]",
            "text/plain": [
              "<Figure size 432x288 with 2 Axes>"
            ]
          },
          "metadata": {
            "tags": [],
            "needs_background": "light"
          }
        }
      ]
    },
    {
      "cell_type": "markdown",
      "metadata": {
        "id": "9sPlODc9PxwF"
      },
      "source": [
        "In this project, I will use three kinds of different deep neural networks:\n",
        "<ol>\n",
        "  <li>Customize CNN (inspired from VGG, the simplest model here)</li>\n",
        "  <li>DesneNet-121</li>\n",
        "  <li>ResNet-152</li>\n",
        "</ol>"
      ]
    },
    {
      "cell_type": "code",
      "metadata": {
        "id": "sWN24toyzPLx"
      },
      "source": [
        "model1 = tf.keras.Sequential([\n",
        "  tf.keras.Input(shape=(32, 32, 1)),\n",
        "  tf.keras.layers.Conv2D(32, kernel_size=(3, 3), activation=\"relu\"),\n",
        "  tf.keras.layers.MaxPooling2D(pool_size=(2, 2)),\n",
        "  tf.keras.layers.Conv2D(64, kernel_size=(3, 3), activation=\"relu\"),\n",
        "  tf.keras.layers.MaxPooling2D(pool_size=(2, 2)),\n",
        "  tf.keras.layers.Flatten(),\n",
        "  tf.keras.layers.Dropout(0.5),\n",
        "  tf.keras.layers.Dense(10, activation=\"softmax\"),\n",
        "])\n",
        "model2 = tf.keras.applications.DenseNet121(weights=None, input_shape=(32, 32, 1), classes=10)\n",
        "model3 = tf.keras.applications.ResNet152(weights=None, input_shape=(32, 32, 1), classes=10)\n",
        "models = [model1, model2, model3]"
      ],
      "execution_count": 11,
      "outputs": []
    },
    {
      "cell_type": "markdown",
      "metadata": {
        "id": "kLEATK_oQWYe"
      },
      "source": [
        "Now we assess the number of parameters for each model. Since DenseNet and ResNet have a huge amount of neurons, I use logarithmic count for the y-axis."
      ]
    },
    {
      "cell_type": "code",
      "metadata": {
        "colab": {
          "base_uri": "https://localhost:8080/",
          "height": 299
        },
        "id": "J0_2MxqC1wwT",
        "outputId": "c17caf6b-6251-49a0-94bf-f154b84cbef0"
      },
      "source": [
        "n_params = []\n",
        "for model in models:\n",
        "  n_params.append(np.log10(model.count_params()))\n",
        "\n",
        "names = [\"my model\", \"densenet121\", \"resnet152\"]\n",
        "plt.bar(names, n_params, align=\"center\")\n",
        "plt.ylabel(\"logarithmic count\")\n",
        "plt.title(\"Model parameter counts\")"
      ],
      "execution_count": 18,
      "outputs": [
        {
          "output_type": "execute_result",
          "data": {
            "text/plain": [
              "Text(0.5, 1.0, 'Model parameter counts')"
            ]
          },
          "metadata": {
            "tags": []
          },
          "execution_count": 18
        },
        {
          "output_type": "display_data",
          "data": {
            "image/png": "[encoded data removed]",
            "text/plain": [
              "<Figure size 432x288 with 1 Axes>"
            ]
          },
          "metadata": {
            "tags": [],
            "needs_background": "light"
          }
        }
      ]
    },
    {
      "cell_type": "markdown",
      "metadata": {
        "id": "4l3H8FhcQqKG"
      },
      "source": [
        "As we can see, DenseNet has approximately 100 times more parameters than our customized model, and ResNet even has 10 times more parameters than DenseNet.\n",
        "<br>\n",
        "Now let's train our model.\n",
        "\n"
      ]
    },
    {
      "cell_type": "code",
      "metadata": {
        "colab": {
          "base_uri": "https://localhost:8080/"
        },
        "id": "MG9COiwC3Hq7",
        "outputId": "994214ca-9839-4df1-805c-9767340da657"
      },
      "source": [
        "history_lst = []\n",
        "for model in models:\n",
        "  model.compile(loss=\"categorical_crossentropy\", optimizer=\"sgd\", metrics=[\"accuracy\"])\n",
        "  history = model.fit(x_train, y_train, batch_size=64, epochs=5, validation_split=0.1)\n",
        "  history_lst.append(history)"
      ],
      "execution_count": 13,
      "outputs": [
        {
          "output_type": "stream",
          "text": [
            "Epoch 1/5\n",
            "29/29 [==============================] - 1s 13ms/step - loss: 2.2972 - accuracy: 0.1189 - val_loss: 2.2388 - val_accuracy: 0.2950\n",
            "Epoch 2/5\n",
            "29/29 [==============================] - 0s 5ms/step - loss: 2.2384 - accuracy: 0.1855 - val_loss: 2.1699 - val_accuracy: 0.4850\n",
            "Epoch 3/5\n",
            "29/29 [==============================] - 0s 5ms/step - loss: 2.1671 - accuracy: 0.2957 - val_loss: 2.0746 - val_accuracy: 0.5800\n",
            "Epoch 4/5\n",
            "29/29 [==============================] - 0s 5ms/step - loss: 2.0640 - accuracy: 0.3688 - val_loss: 1.9046 - val_accuracy: 0.6250\n",
            "Epoch 5/5\n",
            "29/29 [==============================] - 0s 5ms/step - loss: 1.8728 - accuracy: 0.4736 - val_loss: 1.6361 - val_accuracy: 0.6400\n",
            "Epoch 1/5\n",
            "29/29 [==============================] - 13s 180ms/step - loss: 2.0422 - accuracy: 0.3084 - val_loss: 2.3033 - val_accuracy: 0.1200\n",
            "Epoch 2/5\n",
            "29/29 [==============================] - 2s 61ms/step - loss: 0.8533 - accuracy: 0.7604 - val_loss: 2.3136 - val_accuracy: 0.1150\n",
            "Epoch 3/5\n",
            "29/29 [==============================] - 2s 62ms/step - loss: 0.4131 - accuracy: 0.8826 - val_loss: 2.3327 - val_accuracy: 0.0600\n",
            "Epoch 4/5\n",
            "29/29 [==============================] - 2s 61ms/step - loss: 0.2576 - accuracy: 0.9375 - val_loss: 2.3722 - val_accuracy: 0.0900\n",
            "Epoch 5/5\n",
            "29/29 [==============================] - 2s 61ms/step - loss: 0.1764 - accuracy: 0.9674 - val_loss: 2.3983 - val_accuracy: 0.0600\n",
            "Epoch 1/5\n",
            "29/29 [==============================] - 19s 251ms/step - loss: 3.6443 - accuracy: 0.1678 - val_loss: 338010.2812 - val_accuracy: 0.1150\n",
            "Epoch 2/5\n",
            "29/29 [==============================] - 4s 142ms/step - loss: 3.3629 - accuracy: 0.3278 - val_loss: 9801.8379 - val_accuracy: 0.1050\n",
            "Epoch 3/5\n",
            "29/29 [==============================] - 4s 144ms/step - loss: 2.7190 - accuracy: 0.4323 - val_loss: 2018.0312 - val_accuracy: 0.1000\n",
            "Epoch 4/5\n",
            "29/29 [==============================] - 4s 142ms/step - loss: 1.7933 - accuracy: 0.5593 - val_loss: 794.3433 - val_accuracy: 0.1050\n",
            "Epoch 5/5\n",
            "29/29 [==============================] - 4s 143ms/step - loss: 1.7522 - accuracy: 0.6577 - val_loss: 115.0957 - val_accuracy: 0.1000\n"
          ],
          "name": "stdout"
        }
      ]
    },
    {
      "cell_type": "markdown",
      "metadata": {
        "id": "PUkIZIHHRKqP"
      },
      "source": [
        "After training is done, let's check the accuracy of training data and validation data, respectively."
      ]
    },
    {
      "cell_type": "code",
      "metadata": {
        "colab": {
          "base_uri": "https://localhost:8080/",
          "height": 387
        },
        "id": "ugIh77qXEA6U",
        "outputId": "9498a24a-e040-4abd-c3e0-8c627feca547"
      },
      "source": [
        "fig, axes = plt.subplots(1, 2, figsize=(10, 5))\n",
        "for name, history in zip(names, history_lst):\n",
        "  axes[0].plot(history.history['accuracy'], label=name)\n",
        "  axes[1].plot(history.history['val_accuracy'], label=name)\n",
        "axes[0].set_xlabel(\"Training\")\n",
        "axes[1].set_xlabel(\"Validation\")\n",
        "axes[0].set_ylabel(\"Accuracy\")\n",
        "axes[0].legend(loc=\"best\")\n",
        "axes[1].legend(loc=\"best\")\n",
        "plt.suptitle(\"Performance Comparison\")"
      ],
      "execution_count": 36,
      "outputs": [
        {
          "output_type": "execute_result",
          "data": {
            "text/plain": [
              "Text(0.5, 0.98, 'Performance Comparison')"
            ]
          },
          "metadata": {
            "tags": []
          },
          "execution_count": 36
        },
        {
          "output_type": "display_data",
          "data": {
            "image/png": "[encoded data removed]",
            "text/plain": [
              "<Figure size 720x360 with 2 Axes>"
            ]
          },
          "metadata": {
            "tags": [],
            "needs_background": "light"
          }
        }
      ]
    },
    {
      "cell_type": "markdown",
      "metadata": {
        "id": "BSlIwiaLRS02"
      },
      "source": [
        "From the above, we observe that although our customized model yields the worst accuracy on the training data, it **turns out** to have the best validation accuracy. This is the phenomenon of **overfitting** for the DenseNet and ResNet cases since their parameter counts are too high. \n",
        "<br>\n",
        "To ensure this is the problem of overfitting, let's check the test set performance."
      ]
    },
    {
      "cell_type": "code",
      "metadata": {
        "colab": {
          "base_uri": "https://localhost:8080/",
          "height": 351
        },
        "id": "kyab2wY_GjiD",
        "outputId": "1fc720d0-8d3d-4d92-ad3b-5cf0285075df"
      },
      "source": [
        "results = []\n",
        "for model in models:\n",
        "  score = model.evaluate(x_test, y_test)\n",
        "  results.append(score[1])\n",
        "plt.bar(names, results, align=\"center\")\n",
        "plt.ylabel(\"Accuracy\")\n",
        "plt.title(\"Testing Result\")"
      ],
      "execution_count": 46,
      "outputs": [
        {
          "output_type": "stream",
          "text": [
            "313/313 [==============================] - 1s 2ms/step - loss: 1.6349 - accuracy: 0.6420\n",
            "313/313 [==============================] - 5s 15ms/step - loss: 2.4087 - accuracy: 0.0974\n",
            "313/313 [==============================] - 10s 32ms/step - loss: 116.2906 - accuracy: 0.1013\n"
          ],
          "name": "stdout"
        },
        {
          "output_type": "execute_result",
          "data": {
            "text/plain": [
              "Text(0.5, 1.0, 'Testing Result')"
            ]
          },
          "metadata": {
            "tags": []
          },
          "execution_count": 46
        },
        {
          "output_type": "display_data",
          "data": {
            "image/png": "[encoded data removed]",
            "text/plain": [
              "<Figure size 432x288 with 1 Axes>"
            ]
          },
          "metadata": {
            "tags": [],
            "needs_background": "light"
          }
        }
      ]
    },
    {
      "cell_type": "markdown",
      "metadata": {
        "id": "eXanDghkR-G9"
      },
      "source": [
        "As we can see, our simplest model **outperforms** the others. But, we shall not blame the designer of DenseNet and ResNet, since our training data is too small.\n",
        "<br>\n",
        "In the next section, I try to increase the training data size from 2000 to 10000, and I want to see if there is any difference."
      ]
    },
    {
      "cell_type": "code",
      "metadata": {
        "colab": {
          "base_uri": "https://localhost:8080/"
        },
        "id": "sC-9-u2lIVyu",
        "outputId": "75c51f36-946a-4d6a-e729-4fa06b2f038c"
      },
      "source": [
        "(x_train, y_train), (x_test, y_test) = tf.keras.datasets.mnist.load_data()\n",
        "\n",
        "x_train = np.expand_dims(x_train, axis=-1)\n",
        "x_train = tf.image.resize(x_train, [32, 32]) / 255.\n",
        "x_train = x_train[:10000]\n",
        "\n",
        "y_train = y_train[:10000]\n",
        "y_train = tf.keras.utils.to_categorical(y_train, 10)\n",
        "\n",
        "x_test = np.expand_dims(x_test, axis=-1)\n",
        "x_test = tf.image.resize(x_test, [32, 32]) / 255.\n",
        "\n",
        "y_test = tf.keras.utils.to_categorical(y_test, 10)\n",
        "\n",
        "print(\"x_train\", x_train.shape)\n",
        "print(\"y_train\", y_train.shape)\n",
        "print(\"x_test\", x_test.shape)\n",
        "print(\"y_test\", y_test.shape)"
      ],
      "execution_count": 47,
      "outputs": [
        {
          "output_type": "stream",
          "text": [
            "x_train (10000, 32, 32, 1)\n",
            "y_train (10000, 10)\n",
            "x_test (10000, 32, 32, 1)\n",
            "y_test (10000, 10)\n"
          ],
          "name": "stdout"
        }
      ]
    },
    {
      "cell_type": "markdown",
      "metadata": {
        "id": "G-U4OfVRSet-"
      },
      "source": [
        "And do something the same as before."
      ]
    },
    {
      "cell_type": "code",
      "metadata": {
        "colab": {
          "base_uri": "https://localhost:8080/"
        },
        "id": "F-Z2QOu1Ikzc",
        "outputId": "fb7f20ad-7cb1-4df8-daf6-304cc64e1d09"
      },
      "source": [
        "history_lst = []\n",
        "for model in models:\n",
        "  model.compile(loss=\"categorical_crossentropy\", optimizer=\"sgd\", metrics=[\"accuracy\"])\n",
        "  history = model.fit(x_train, y_train, batch_size=64, epochs=5, validation_split=0.1)\n",
        "  history_lst.append(history)"
      ],
      "execution_count": 48,
      "outputs": [
        {
          "output_type": "stream",
          "text": [
            "Epoch 1/5\n",
            "141/141 [==============================] - 1s 6ms/step - loss: 1.4023 - accuracy: 0.5864 - val_loss: 0.6152 - val_accuracy: 0.8380\n",
            "Epoch 2/5\n",
            "141/141 [==============================] - 1s 4ms/step - loss: 0.7856 - accuracy: 0.7405 - val_loss: 0.4641 - val_accuracy: 0.8540\n",
            "Epoch 3/5\n",
            "141/141 [==============================] - 1s 4ms/step - loss: 0.6227 - accuracy: 0.7966 - val_loss: 0.3893 - val_accuracy: 0.8890\n",
            "Epoch 4/5\n",
            "141/141 [==============================] - 1s 4ms/step - loss: 0.5046 - accuracy: 0.8365 - val_loss: 0.3504 - val_accuracy: 0.8900\n",
            "Epoch 5/5\n",
            "141/141 [==============================] - 1s 4ms/step - loss: 0.4315 - accuracy: 0.8650 - val_loss: 0.3216 - val_accuracy: 0.9060\n",
            "Epoch 1/5\n",
            "141/141 [==============================] - 20s 86ms/step - loss: 0.2058 - accuracy: 0.9417 - val_loss: 2.2179 - val_accuracy: 0.1390\n",
            "Epoch 2/5\n",
            "141/141 [==============================] - 8s 60ms/step - loss: 0.0864 - accuracy: 0.9771 - val_loss: 0.5395 - val_accuracy: 0.8320\n",
            "Epoch 3/5\n",
            "141/141 [==============================] - 9s 60ms/step - loss: 0.0494 - accuracy: 0.9887 - val_loss: 0.1101 - val_accuracy: 0.9670\n",
            "Epoch 4/5\n",
            "141/141 [==============================] - 8s 60ms/step - loss: 0.0275 - accuracy: 0.9954 - val_loss: 0.0953 - val_accuracy: 0.9730\n",
            "Epoch 5/5\n",
            "141/141 [==============================] - 8s 60ms/step - loss: 0.0160 - accuracy: 0.9989 - val_loss: 0.0879 - val_accuracy: 0.9730\n",
            "Epoch 1/5\n",
            "141/141 [==============================] - 34s 165ms/step - loss: 0.8585 - accuracy: 0.7666 - val_loss: 2.4046 - val_accuracy: 0.1760\n",
            "Epoch 2/5\n",
            "141/141 [==============================] - 20s 142ms/step - loss: 0.4221 - accuracy: 0.8809 - val_loss: 0.8126 - val_accuracy: 0.7530\n",
            "Epoch 3/5\n",
            "141/141 [==============================] - 20s 142ms/step - loss: 0.2851 - accuracy: 0.9248 - val_loss: 0.2990 - val_accuracy: 0.9080\n",
            "Epoch 4/5\n",
            "141/141 [==============================] - 20s 141ms/step - loss: 0.2148 - accuracy: 0.9387 - val_loss: 0.2197 - val_accuracy: 0.9310\n",
            "Epoch 5/5\n",
            "141/141 [==============================] - 20s 142ms/step - loss: 0.1498 - accuracy: 0.9634 - val_loss: 0.2238 - val_accuracy: 0.9310\n"
          ],
          "name": "stdout"
        }
      ]
    },
    {
      "cell_type": "code",
      "metadata": {
        "colab": {
          "base_uri": "https://localhost:8080/",
          "height": 387
        },
        "id": "GQJ9EGBQJSZF",
        "outputId": "22817f8e-2e8a-468f-956a-b5676467da8d"
      },
      "source": [
        "fig, axes = plt.subplots(1, 2, figsize=(10, 5))\n",
        "for name, history in zip(names, history_lst):\n",
        "  axes[0].plot(history.history['accuracy'], label=name)\n",
        "  axes[1].plot(history.history['val_accuracy'], label=name)\n",
        "axes[0].set_xlabel(\"Training\")\n",
        "axes[1].set_xlabel(\"Validation\")\n",
        "axes[0].set_ylabel(\"Accuracy\")\n",
        "axes[0].legend(loc=\"best\")\n",
        "axes[1].legend(loc=\"best\")\n",
        "plt.suptitle(\"Performance Comparison\")"
      ],
      "execution_count": 49,
      "outputs": [
        {
          "output_type": "execute_result",
          "data": {
            "text/plain": [
              "Text(0.5, 0.98, 'Performance Comparison')"
            ]
          },
          "metadata": {
            "tags": []
          },
          "execution_count": 49
        },
        {
          "output_type": "display_data",
          "data": {
            "image/png": "[encoded data removed]",
            "text/plain": [
              "<Figure size 720x360 with 2 Axes>"
            ]
          },
          "metadata": {
            "tags": [],
            "needs_background": "light"
          }
        }
      ]
    },
    {
      "cell_type": "markdown",
      "metadata": {
        "id": "8WjfB7WVSjcd"
      },
      "source": [
        "Here, we see that DensetNet and ResNet not only perform better during the training stage, they also have a good performance on the validation stage after 2 epochs.\n",
        "<br>\n",
        "Finally, let's see the test set performance:"
      ]
    },
    {
      "cell_type": "code",
      "metadata": {
        "colab": {
          "base_uri": "https://localhost:8080/",
          "height": 351
        },
        "id": "PMah64ilJawV",
        "outputId": "22d787a7-b1c5-4295-bb5c-a2cc9f54bae9"
      },
      "source": [
        "results = []\n",
        "for model in models:\n",
        "  score = model.evaluate(x_test, y_test)\n",
        "  results.append(score[1])\n",
        "plt.bar(names, results, align=\"center\")\n",
        "plt.ylabel(\"Accuracy\")\n",
        "plt.ylim((0.8, 1))\n",
        "plt.title(\"Testing Result\")"
      ],
      "execution_count": 52,
      "outputs": [
        {
          "output_type": "stream",
          "text": [
            "313/313 [==============================] - 1s 2ms/step - loss: 0.3194 - accuracy: 0.9103\n",
            "313/313 [==============================] - 5s 15ms/step - loss: 0.0780 - accuracy: 0.9757\n",
            "313/313 [==============================] - 10s 31ms/step - loss: 0.2479 - accuracy: 0.9260\n"
          ],
          "name": "stdout"
        },
        {
          "output_type": "execute_result",
          "data": {
            "text/plain": [
              "Text(0.5, 1.0, 'Testing Result')"
            ]
          },
          "metadata": {
            "tags": []
          },
          "execution_count": 52
        },
        {
          "output_type": "display_data",
          "data": {
            "image/png": "[encoded data removed]",
            "text/plain": [
              "<Figure size 432x288 with 1 Axes>"
            ]
          },
          "metadata": {
            "tags": [],
            "needs_background": "light"
          }
        }
      ]
    },
    {
      "cell_type": "markdown",
      "metadata": {
        "id": "vd9Fz8B1TBES"
      },
      "source": [
        "Compared to the data volume that has merely 2000, DenseNet and ResNet can perform well as long as the training data is sufficient enough. Therefore, we can conclude: \n",
        "<br>\n",
        "<ol>\n",
        "  <li>If data volume is <b>small</b>, we shall use <b>simpler</b> model for training in order to prevent overfitting.</li>\n",
        "  <li>If we have <b>sufficient</b> training data, we could use <b>more complex</b> model in order to boost performance.</li>\n",
        "</ol>"
      ]
    }
  ]
}